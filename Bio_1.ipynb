{
 "cells": [
  {
   "cell_type": "markdown",
   "metadata": {},
   "source": [
    "<div class=\"alert alert-block alert-success\">\n",
    "$\\newcommand{\\R}{\\mathbb{R}} \\newcommand{\\Z}{\\mathbb{Z}} \\newcommand{\\N}{\\mathbb{N}} \n",
    "\\newcommand{\\bff}{\\mathbf{f}} \\newcommand{\\bx}{\\mathbf{x}} \n",
    "\\newcommand{\\by}{\\mathbf{y}} \\newcommand{\\bo}{\\mathbb{1}} \\newcommand{\\bJ}{\\mathbf{J}}\n",
    "\\newcommand{\\dif}{\\,\\,\\mathrm{d}}$\n",
    "In this notebook, we focus on the following nonlinear system of PDE's:\n",
    "    \n",
    "\\begin{align}\n",
    "    \\left( \\theta + \\frac{b_X}{1 + \\kappa_X b_X Y_L} \\right) \\partial_t X_L - \\frac{\\kappa_X b_X X_L}{(1+\\kappa_X b_X Y_L)^2} \\partial_t Y_L &=\n",
    "    \\nabla \\cdot ( D_X \\nabla X_L - \\nu X_L  ) - g_X\n",
    "    \\\\\n",
    "    \\left( \\theta + \\frac{b_Y}{1 + \\kappa_Y b_Y X_L} \\right) \\partial_t Y_L - \\frac{\\kappa_Y b_Y Y_L}{(1+\\kappa_Y b_Y X_L)^2} \\partial_t X_L &=\n",
    "    \\nabla \\cdot ( D_Y \\nabla Y_L - \\nu Y_L  ) - g_Y;\n",
    "\\end{align}\n",
    "    \n",
    "where $X(r,z)$ and $Y(r,z)$ are subject to the boundary conditions:\n",
    "    \n",
    "For one side\n",
    "\\begin{align}\n",
    "    D_X \\partial_r X_L - \\nu X_L &= \\alpha X_L & \\text{at } r = a, z \\in [L - \\delta L_X, L],\n",
    "    \\\\\n",
    "    D_Y \\partial_r Y_L - \\nu Y_L &= -F_Y(t) &\\text{at } r = a, z \\in [L - \\delta L_Y, L],\n",
    "\\end{align}\n",
    "where $L = L_0 + G t$;\n",
    "for the other side we have\n",
    "\\begin{align}\n",
    "    D_X \\partial_r X_L - \\nu X_L &= 0 & \\text{at } r = x,\n",
    "    \\\\\n",
    "    D_Y \\partial_r Y_L - \\nu Y_L &= 0 & \\text{at } r = x.\n",
    "\\end{align}\n",
    "    \n",
    "Moreover, $r \\in [a,x]$, with $x = (\\pi L_V)^{1/2}$, and $z \\in [0, L_{t_{\\mathrm{max}} }]$.\n",
    "    \n",
    "    \n",
    "</div>"
   ]
  },
  {
   "cell_type": "markdown",
   "metadata": {},
   "source": [
    "### Variational formulation"
   ]
  },
  {
   "cell_type": "markdown",
   "metadata": {},
   "source": [
    "$\\newcommand{\\dif}{\\,\\,\\mathrm{d}}$\n",
    "To find the variational formulation of the system of PDE's, we will use Galerkin's method. Let's begin supposing that there is a $\\mathcal{C}^2 (\\bar \\Omega)$ solution pair $(X_L,Y_L)$. Let us multiply the first equation by $v \\in \\mathcal{C}^1 (\\bar\\Omega)$ function and introduce $A_X(Y_L) = \\theta + \\frac{b_X}{1 + \\kappa_X b_X Y_L}$ and $B_X(X_L,Y_L) = \\frac{\\kappa_X b_X X_L}{(1+\\kappa_X b_X Y_L)^2}$. We then get\n",
    "\\begin{align}\n",
    "    A_X(Y_L) \\partial_t X_L v - B_X(X_L,Y_L) \\partial_t Y_L v = \\nabla \\cdot (D_X \\nabla X_L - \\nu X_L) v - g_X v.\n",
    "\\end{align}\n",
    "Integrating this, and using the Divergence Theorem, we have\n",
    "\\begin{align}\n",
    "    \\int\\limits_\\Omega\n",
    "    A_X(Y_L) \\partial_t X_L v - B_X(X_L,Y_L) \\partial_t Y_L v \\dif \\mu &= \n",
    "    \\int\\limits_\\Omega\n",
    "    \\nabla \\cdot (D_X \\nabla X_L - \\nu X_L) v  \\dif \\mu\n",
    "    -\\int\\limits_\\Omega g_X v \\dif \\mu\n",
    "    \\\\\n",
    "    &=\n",
    "    \\int\\limits_\\Gamma\n",
    "    (D_X \\nabla X_L - \\nu X_L) \\cdot \\vec{n} v\n",
    "    \\dif \\sigma\n",
    "    -\\int\\limits_\\Omega\n",
    "    (D_X \\nabla X_L - \\nu X_L) \\cdot \\nabla v  \\dif \\mu\n",
    "    -\\int\\limits_\\Omega g_X v \\dif \\mu;\n",
    "\\end{align}\n",
    "where $\\Gamma$ is the boundary of $\\Omega$, $\\vec{n}$ its normal vector and $\\sigma$ the surface measure on $\\Gamma$. \n",
    "\n",
    "Notice that we only need to analyse three segments of $\\Gamma$: $\\Gamma_{a_X} \\cup \\Gamma_{a_Y}$ which coincide with $r=a$ and $ \\Gamma_x$ coinciding with $r = x$. At $r = a$, we have that $ \\vec{n} = (-1,0)$, thus\n",
    "\\begin{align}\n",
    "    \\int\\limits_{\\Gamma_{a_X}}\n",
    "    (D_X \\nabla X_L - \\nu X_L) \\cdot \\vec{n} v    \\dif \\sigma\n",
    "    =\n",
    "    -\n",
    "    \\int\\limits_{\\Gamma_{a_X}}\n",
    "    (D_X \\partial_r X_L - \\nu X_L) v    \\dif \\sigma\n",
    "    =\n",
    "    -\\int\\limits_{\\Gamma_{a_X}}\n",
    "    \\alpha X_L v    \\dif \\sigma.\n",
    "\\end{align}\n",
    "Similarly, at $r = x$, we have that $ \\vec{n} = (1,0)$, thus\n",
    "\\begin{align}\n",
    "    \\int\\limits_{\\Gamma_x}\n",
    "    (D_X \\nabla X_L - \\nu X_L) \\cdot \\vec{n} v    \\dif \\sigma\n",
    "    =\n",
    "    \\int\\limits_{\\Gamma_x}\n",
    "    (D_X \\partial_r X_L - \\nu X_L) v    \\dif \\sigma\n",
    "    =\n",
    "    0.\n",
    "\\end{align}"
   ]
  },
  {
   "cell_type": "markdown",
   "metadata": {},
   "source": [
    "As a result, we have that the following equation must be satisfied for every $v \\in \\mathcal{C}^1 (\\bar\\Omega)$:\n",
    "\\begin{align}\n",
    "    \\int\\limits_\\Omega\n",
    "    A_X(Y_L) \\partial_t X_L v - B_X(X_L,Y_L) \\partial_t Y_L v \\dif \\mu\n",
    "    &=\n",
    "    -\\int\\limits_{\\Gamma_{a_X}}    \\alpha X_L v    \\dif \\sigma\n",
    "    -\\int\\limits_\\Omega        (D_X \\nabla X_L - \\nu X_L) \\cdot \\nabla v  \\dif \\mu\n",
    "    -\\int\\limits_\\Omega        g_X v \\dif \\mu.\n",
    "\\end{align}\n",
    "Notice that by density, the weak form of the previous equation is the same over $H^1(\\Omega)$."
   ]
  },
  {
   "cell_type": "markdown",
   "metadata": {},
   "source": [
    "Similarly, for the governing equation of $Y_L$ we have its variational form is\n",
    "\\begin{align}\n",
    "    \\int\\limits_\\Omega\n",
    "    A_Y(X_L) \\partial_t Y_L v - B_Y(Y_L,X_L) \\partial_t X_L v \\dif \\mu\n",
    "    &=\n",
    "    \\int\\limits_{\\Gamma_{a_Y}}     F_Y(t) v    \\dif \\sigma\n",
    "    -\\int\\limits_\\Omega        (D_Y \\nabla Y_L - \\nu Y_L) \\cdot \\nabla v  \\dif \\mu\n",
    "    -\\int\\limits_\\Omega        g_Y v \\dif \\mu \n",
    "    \\qquad \\forall v \\in H(\\Omega).\n",
    "\\end{align}"
   ]
  },
  {
   "cell_type": "markdown",
   "metadata": {},
   "source": [
    "For $X_L$, the set $\\Gamma_{a_X}^c$ is formed by the upper and lower sides of the rectangle, as well as the set $[0,L-\\delta L_X] \\cup [L,L_{t_\\max}] \\times \\{a\\}$ (possibly one of these might be empty at certain instant $t$). Likewise, the set $\\Gamma_{a_Y}^c$ is formed by the upper and lower sides of the rectangle alongside the set $[0,L-\\delta L_Y] \\cup [L,L_{t_\\max}] \\times \\{a\\}$."
   ]
  },
  {
   "cell_type": "markdown",
   "metadata": {},
   "source": [
    "### Time approximation"
   ]
  },
  {
   "cell_type": "markdown",
   "metadata": {},
   "source": [
    "To approximate the time derivative, we will approximate the derivative with a simple backward difference. To do this, we will discretise the time domain; then, let the superscript $n$ denote a quantity at time $t_n$, where $n$ is an integer counting time levels; e.g. $X_L^n$ is $X_L$ evaluated at time level $n$. This yields\n",
    "\\begin{equation}\n",
    "    \\left(\\frac{\\partial X_L}{\\partial t}\\right)^{n+1} \\approx \\frac{X_L^{n+1} - X_L^n}{\\Delta t}.\n",
    "\\end{equation}\n",
    "Inserting this in the variational formulation, we get the approximation\n",
    "\\begin{align}\n",
    "    \\int\\limits_\\Omega\n",
    "    \\big(\n",
    "    A_X(Y_L^{n+1}) (X_L^{n+1} - X_L^n) &- B_X(X_L^{n+1},Y_L^{n+1}) (Y_L^{n+1} - Y_L^n)  \n",
    "    \\big) v \\dif \\mu\n",
    "    \\\\\n",
    "    &\\quad+\n",
    "    \\Delta t \\int\\limits_\\Omega        (D_X \\nabla X_L^{n+1} - \\nu X_L^{n+1}) \\cdot \\nabla v  \\dif \\mu\n",
    "    +\n",
    "    \\Delta t \\int\\limits_{\\Gamma_{a_X^{n+1}}}    \\alpha X_L^{n+1} v    \\dif \\sigma\n",
    "    =\n",
    "    -\\Delta t \\int\\limits_\\Omega        g_X v \\dif \\mu.\n",
    "\\end{align}\n"
   ]
  },
  {
   "cell_type": "markdown",
   "metadata": {},
   "source": [
    "In the case of $Y_L$, we proceed with the same time scale and get\n",
    "\\begin{align}\n",
    "    \\int\\limits_\\Omega\n",
    "    \\big(\n",
    "        A_Y(X_L^{n+1}) (Y_L^{n+1} - Y_L^n)  &- B_Y(Y_L,X_L) (X_L^{n+1} - X_L^n)\n",
    "    \\big) v \\dif \\mu\n",
    "    \\\\\n",
    "    &\\qquad\n",
    "    + \\Delta t\\int\\limits_\\Omega        (D_Y \\nabla Y_L^{n+1} - \\nu Y_L^{n+1}) \\cdot \\nabla v  \\dif \\mu\n",
    "    =\n",
    "    \\Delta t\\int\\limits_{\\Gamma_{a_Y^{n+1}}}     F_Y(t_{n+1}) v    \\dif \\sigma\n",
    "    -\\Delta t\\int\\limits_\\Omega        g_Y v \\dif \\mu.\n",
    "\\end{align}"
   ]
  },
  {
   "cell_type": "markdown",
   "metadata": {},
   "source": [
    "Notice that we further need to approximate the system at time $t=0$. Do we have any information for this?"
   ]
  },
  {
   "cell_type": "markdown",
   "metadata": {},
   "source": [
    "<div class=\"alert alert-block alert-info\">\n",
    "The following packages are loaded into the environment. \n",
    "</div>"
   ]
  },
  {
   "cell_type": "code",
   "execution_count": 1,
   "metadata": {},
   "outputs": [],
   "source": [
    "from __future__ import print_function\n",
    "from fenics import *\n",
    "import numpy as np\n",
    "import matplotlib.pyplot as plt"
   ]
  },
  {
   "cell_type": "markdown",
   "metadata": {},
   "source": [
    "Parameters"
   ]
  },
  {
   "cell_type": "code",
   "execution_count": 2,
   "metadata": {},
   "outputs": [],
   "source": [
    "T = 24*60*60                   # Final time\n",
    "num_steps = 24*60*60           # Number of time steps\n",
    "δt = T / num_steps             # Time step size"
   ]
  },
  {
   "cell_type": "code",
   "execution_count": 3,
   "metadata": {
    "code_folding": [
     0
    ]
   },
   "outputs": [],
   "source": [
    "# First we compute numerical values, then overwrite constants as FEniCS objects\n",
    "θ = 0.7                               # Solution volume fraction\n",
    "f = 0.5                               # Diffusion impedance factor\n",
    "ν = 1e-6                              # Water flux\n",
    "Dx = 7e-8 * θ * f                     # Diffusion coefficient for X\n",
    "Dy = 7e-8 * θ * f                     # Diffusion coefficient for Y\n",
    "\n",
    "θ,f = Constant(θ), Constant(f)\n",
    "Dx,Dy = Constant(Dx), Constant(Dy)\n",
    "\n",
    "b_x = Constant(200)                   # Zn buffer power\n",
    "b_y = Constant(1)                     # DMA buffer power\n",
    "κ_x = Constant(5e3)                   # Zn-DMA interaction coefficient\n",
    "κ_y = Constant(0)                     # DMA-Zn interaction coefficient\n",
    "\n",
    "# Constants for DMA decomposition\n",
    "Vmax = Constant(2.5 - 1e-8)\n",
    "KM = Constant(100 * 1e-6)\n",
    "\n",
    "ρ = Constant(1.0)                     # Soil bulk density\n",
    "α = Constant(1.5 * 1e-3)              # Zn absorbing power of root\n",
    "F_y = Constant(4 * 1e-11)             # Rate of DMA exudation over 24 h\n",
    "\n",
    "νν = Constant([ν,ν])\n",
    "ν = Constant(ν)\n",
    "\n",
    "a = Constant(1e-3)                    # root radius \n",
    "δLx = 0.2                             # Length or Zn uptake zone\n",
    "δLy = 0.2                             # Length or PS secretion zone\n",
    "Lv = Constant(100)                    # Maximum root length density\n",
    "x_r = Constant(1 / sqrt(np.pi * Lv))  # radius of zone of root influence\n",
    "\n",
    "# Root growth rate in dm/s ?\n",
    "G = 0.2 / 86400.\n",
    "L_0 = 0.5\n",
    "#Len = L_0 + G*δt\n",
    "\n",
    "LenMax = Constant(L_0 + 1 * 0.2)      # Max length in 1 day "
   ]
  },
  {
   "cell_type": "code",
   "execution_count": 4,
   "metadata": {},
   "outputs": [],
   "source": [
    "# Functions\n",
    "g_x = Constant(0.0)                               # Function for Zn immobilization\n",
    "def g_y(Y):    return ρ * Vmax * Y / (KM + Y)     # Function for DMA decomposition"
   ]
  },
  {
   "cell_type": "markdown",
   "metadata": {},
   "source": [
    "<div class=\"alert alert-block alert-warning\">\n",
    "Create mesh and define function space\n",
    "</div>"
   ]
  },
  {
   "cell_type": "code",
   "execution_count": 5,
   "metadata": {},
   "outputs": [],
   "source": [
    "n_r = n_z = 100\n",
    "mesh = RectangleMesh(Point(a, -LenMax), Point(x_r, 0), n_r, n_z)\n",
    "\n",
    "P1 = FiniteElement('CG', triangle, 1)\n",
    "element = MixedElement([P1, P1])\n",
    "V = FunctionSpace(mesh, element)\n",
    "\n",
    "# Define test functions\n",
    "v_x, v_y = TestFunctions(V)"
   ]
  },
  {
   "cell_type": "markdown",
   "metadata": {},
   "source": [
    "<div class=\"alert alert-block alert-warning\">\n",
    "Define boundary condition\n",
    "</div>"
   ]
  },
  {
   "cell_type": "code",
   "execution_count": 6,
   "metadata": {},
   "outputs": [],
   "source": [
    "boundary_markers = MeshFunction(\"size_t\", mesh, mesh.topology().dim()-1)\n",
    "boundary_markers.set_all(9999)"
   ]
  },
  {
   "cell_type": "code",
   "execution_count": 7,
   "metadata": {
    "code_folding": [
     0
    ]
   },
   "outputs": [],
   "source": [
    "# Define boundary subdomains\n",
    "tol = 1e-14\n",
    "\n",
    "# Root radious: this is the only part of the boundary where we will measure Robin conditions\n",
    "class Soil_Left(SubDomain):\n",
    "    def inside(self, x, on_boundary):\n",
    "        return(on_boundary and near(x[0], a, tol))\n",
    "\n",
    "b_xt = Soil_Left();    b_xt.mark(boundary_markers, 0)"
   ]
  },
  {
   "cell_type": "code",
   "execution_count": 8,
   "metadata": {},
   "outputs": [],
   "source": [
    "ds = Measure('ds', domain=mesh, subdomain_data=boundary_markers)"
   ]
  },
  {
   "cell_type": "code",
   "execution_count": 9,
   "metadata": {},
   "outputs": [],
   "source": [
    "ℑ_X = Expression(\n",
    "        'near(x[0], a, tol) and x[1] <= 0.0 and x[1] >= -(L_0 + G*t) ? 1: 0', \n",
    "        degree = 0, tol = tol, a = a, L_0 = L_0, G = G, δLx = δLx, t = δt)\n",
    "ℑ_Y = Expression(\n",
    "        'near(x[0], a, tol) and x[1] >= -(L_0 + G*t) and x[1] <= -(L_0 + G*t - δLy) ? 1: 0', \n",
    "        degree = 0, tol = tol, a = a, L_0 = L_0, G = G, δLy = δLy, t = δt)"
   ]
  },
  {
   "cell_type": "markdown",
   "metadata": {},
   "source": [
    "<div class=\"alert alert-block alert-warning\">\n",
    "Define variational problem\n",
    "</div>"
   ]
  },
  {
   "cell_type": "code",
   "execution_count": 10,
   "metadata": {
    "code_folding": []
   },
   "outputs": [],
   "source": [
    "# Define functions for concentrations\n",
    "XY   = Function(V)       # The unknown functions\n",
    "XY_n = Function(V)       # Values of the function at previous time step\n",
    "XY_n = project(Expression(('1e-8','0.0'), degree = 1), V) # Initialisation\n",
    "\n",
    "# Split functions to access components\n",
    "X, Y = split(XY)\n",
    "X_n, Y_n = split(XY_n)\n",
    "\n",
    "# For getting the Jacobian\n",
    "dXY = TrialFunction(V)"
   ]
  },
  {
   "cell_type": "code",
   "execution_count": 11,
   "metadata": {},
   "outputs": [],
   "source": [
    "# *** Integrals over Ω ***\n",
    "dt = Constant(δt)\n",
    "# **** X_L **** #\n",
    "# As g_x = 0, we can drop it from the actual implementation.\n",
    "NLF = ( (θ + b_x/(1 + κ_x * b_x * Y)) * (X - X_n) * v_x ) * dx - (\n",
    "        κ_x * pow(b_x,2) * pow(1 + κ_x * b_x * Y,-2) * X * (Y - Y_n)/dt * v_x) * dx + dt * (\n",
    "               dot(Dx * grad(X) - νν * X, grad(v_x)) ) * dx\n",
    "# **** Y_L **** #\n",
    "NLF += ( (θ + b_y) * (Y - Y_n)/dt * v_y ) * dx + dt * (\n",
    "        dot(Dy * grad(Y) - νν * Y, grad(v_y)) ) * dx + dt * ( g_y(Y) * v_y ) * dx"
   ]
  },
  {
   "cell_type": "code",
   "execution_count": 12,
   "metadata": {},
   "outputs": [],
   "source": [
    "# *** Integrals over Γ ***\n",
    "NLF += dt * α * X * v_x * ℑ_X * ds(0)                   # **** X_L **** #\n",
    "NLF -= dt * F_y * v_y * ℑ_Y * ds(0)                     # **** Y_L **** #"
   ]
  },
  {
   "cell_type": "code",
   "execution_count": 13,
   "metadata": {},
   "outputs": [],
   "source": [
    "J = derivative(NLF, XY, dXY)"
   ]
  },
  {
   "cell_type": "markdown",
   "metadata": {},
   "source": [
    "<div class=\"alert alert-block alert-warning\">\n",
    "Compute solution\n",
    "</div>"
   ]
  },
  {
   "cell_type": "code",
   "execution_count": 14,
   "metadata": {},
   "outputs": [],
   "source": [
    "# Create VTK files for visualization output\n",
    "#vtkfile_X = File('Sol/X.pvd')\n",
    "#vtkfile_Y = File('Sol/Y.pvd')\n",
    "xdmffile_X = XDMFFile('Sol/X.xdmf')\n",
    "xdmffile_Y = XDMFFile('Sol/Y.xdmf')"
   ]
  },
  {
   "cell_type": "code",
   "execution_count": 15,
   "metadata": {},
   "outputs": [],
   "source": [
    "xdmffile_X.parameters[\"flush_output\"] = True\n",
    "xdmffile_Y.parameters[\"flush_output\"] = True"
   ]
  },
  {
   "cell_type": "code",
   "execution_count": 16,
   "metadata": {},
   "outputs": [],
   "source": [
    "t = 0.0 + δt"
   ]
  },
  {
   "cell_type": "code",
   "execution_count": 17,
   "metadata": {},
   "outputs": [],
   "source": [
    "for n in range(num_steps//200):\n",
    "    problem = NonlinearVariationalProblem(NLF, XY, J=J)\n",
    "    solver = NonlinearVariationalSolver(problem)\n",
    "    \n",
    "    prm = solver.parameters\n",
    "    prm['newton_solver'][\"linear_solver\"] = \"lu\"\n",
    "    prm['newton_solver'][\"convergence_criterion\"] = \"incremental\"\n",
    "    prm['newton_solver'][\"relative_tolerance\"] = 1e-7\n",
    "    #prm['newton_solver']['relaxation_parameter'] = 1e-3\n",
    "    prm['newton_solver']['maximum_iterations'] = 100\n",
    "\n",
    "    solver.solve()\n",
    "    \n",
    "    # Solve variational problem for time step\n",
    "    #solve(NLF == 0, XY)\n",
    "    \n",
    "    # Store current state\n",
    "    _X, _Y = XY.split()\n",
    "    \n",
    "    # Save solution to file (XDMF/HDF5)\n",
    "    xdmffile_X.write(_X, t)\n",
    "    xdmffile_Y.write(_Y, t)\n",
    "    #vtkfile_X << (_X, t)\n",
    "    #vtkfile_Y << (_Y, t)\n",
    "    \n",
    "    # Update current time\n",
    "    t += δt\n",
    "    \n",
    "    # Root growth update:\n",
    "    ℑ_X.t += δt\n",
    "    ℑ_Y.t += δt\n",
    "    \n",
    "    # Update previous state\n",
    "    XY_n.assign(XY)\n",
    "    X_n, Y_n = split(XY_n)"
   ]
  },
  {
   "cell_type": "markdown",
   "metadata": {},
   "source": [
    "## Tunning Tests"
   ]
  },
  {
   "cell_type": "code",
   "execution_count": 18,
   "metadata": {},
   "outputs": [],
   "source": [
    "info(prm, True)"
   ]
  },
  {
   "cell_type": "code",
   "execution_count": 22,
   "metadata": {},
   "outputs": [],
   "source": [
    "prm['newton_solver']['relaxation_parameter']"
   ]
  },
  {
   "cell_type": "code",
   "execution_count": null,
   "metadata": {},
   "outputs": [],
   "source": []
  },
  {
   "cell_type": "markdown",
   "metadata": {},
   "source": [
    "newton_solver            |    type        value    range  access  change\n",
    "    ------------------------------------------------------------------------\n",
    "    absolute_tolerance       |  double     0.000000  Not set       0       0\n",
    "    convergence_criterion    |  string  incremental  Not set       0       0\n",
    "    error_on_nonconvergence  |    bool            1  Not set       0       0\n",
    "    linear_solver            |  string           lu  Not set       0       0\n",
    "    maximum_iterations       |     int          100  Not set       0       0\n",
    "    preconditioner           |  string      default  Not set       0       0\n",
    "    relative_tolerance       |  double     0.000000  Not set       0       0\n",
    "    relaxation_parameter     |  double      <unset>  Not set       0       0\n",
    "    report                   |    bool            1  Not set       0       0"
   ]
  },
  {
   "cell_type": "code",
   "execution_count": null,
   "metadata": {},
   "outputs": [],
   "source": []
  },
  {
   "cell_type": "code",
   "execution_count": 27,
   "metadata": {},
   "outputs": [],
   "source": []
  },
  {
   "cell_type": "code",
   "execution_count": 18,
   "metadata": {
    "collapsed": true
   },
   "outputs": [
    {
     "data": {
      "image/png": "[encoded data removed]",
      "text/plain": [
       "<Figure size 432x288 with 1 Axes>"
      ]
     },
     "metadata": {
      "needs_background": "light"
     },
     "output_type": "display_data"
    }
   ],
   "source": [
    "plot(X)\n",
    "plot(mesh)\n",
    "plt.show()"
   ]
  },
  {
   "cell_type": "code",
   "execution_count": null,
   "metadata": {},
   "outputs": [],
   "source": []
  },
  {
   "cell_type": "code",
   "execution_count": null,
   "metadata": {},
   "outputs": [],
   "source": []
  },
  {
   "cell_type": "markdown",
   "metadata": {},
   "source": [
    "<div class=\"alert alert-block alert-warning\">\n",
    "Compute solution\n",
    "</div>"
   ]
  },
  {
   "cell_type": "code",
   "execution_count": null,
   "metadata": {},
   "outputs": [],
   "source": []
  },
  {
   "cell_type": "markdown",
   "metadata": {},
   "source": [
    "# Previous"
   ]
  },
  {
   "cell_type": "code",
   "execution_count": null,
   "metadata": {
    "code_folding": [
     0
    ]
   },
   "outputs": [],
   "source": [
    "# Define boundary subdomains\n",
    "tol = 1e-14\n",
    "\n",
    "# Limit zone of influence\n",
    "class Boundary_NoFlux_x_r(SubDomain):\n",
    "    def inside(self, x, on_boundary):\n",
    "        return on_boundary and near(x[0], x_r, tol)\n",
    "    \n",
    "# Limit length\n",
    "class Boundary_NoFlux_z(SubDomain):\n",
    "    def inside(self, x, on_boundary):\n",
    "        return on_boundary and ( near(x[1], 0, tol) or near(x[1], 1.4, tol) )\n",
    "\n",
    "# Root radious\n",
    "class Boundary_Xt(SubDomain):\n",
    "    def inside(self, x, on_boundary):\n",
    "        return on_boundary and near(x[0], a, tol) and (x[1] >= Len - δLx and x[1] <= Len)\n",
    "\n",
    "class Boundary_Yt(SubDomain):\n",
    "    def inside(self, x, on_boundary):\n",
    "        return on_boundary and near(x[0], a, tol) and (x[1] >= Len - δLy and x[1] <= Len)\n",
    "\n",
    "class Boundary_NoFlux_ax(SubDomain):\n",
    "    def inside(self, x, on_boundary):\n",
    "        return on_boundary and near(x[0], a, tol) and (x[1] < Len - δLx and x[1] > Len)\n",
    "class Boundary_NoFlux_ay(SubDomain):\n",
    "    def inside(self, x, on_boundary):\n",
    "        return on_boundary and near(x[0], a, tol) and (x[1] < Len - δLy and x[1] > Len)\n",
    "    \n",
    "    \n",
    "b_xt  = Boundary_Xt()\n",
    "b_yt  = Boundary_Yt()\n",
    "b_nfx = Boundary_NoFlux_x_r()\n",
    "b_nfz = Boundary_NoFlux_z()\n",
    "b_nfax= Boundary_NoFlux_ax()\n",
    "b_nfay= Boundary_NoFlux_ay()\n",
    "\n",
    "b_xt.mark(boundary_markers, 0)\n",
    "b_yt.mark(boundary_markers, 1)\n",
    "b_nfx.mark(boundary_markers, 2)\n",
    "b_nfz.mark(boundary_markers, 3)\n",
    "b_nfax.mark(boundary_markers, 4)\n",
    "b_nfay.mark(boundary_markers, 5)"
   ]
  },
  {
   "cell_type": "code",
   "execution_count": null,
   "metadata": {},
   "outputs": [],
   "source": [
    "'''\n",
    "    (θ + b_x/(1 + κ_x * b_x * Y)) * (X - X_n)/dt * v_x * dx - (\n",
    "            κ_x * pow(bx,2) * pow(1 + κ_x * bx * Y,-2) * X * (Y - Y_n)/dt * v_x) * dx + (\n",
    "               dot(Dx * grad(X) - νν * X, grad(v_x)) ) * dx + (g_x * v_x) * dx\n",
    "'''"
   ]
  },
  {
   "cell_type": "code",
   "execution_count": null,
   "metadata": {},
   "outputs": [],
   "source": [
    "#https://fenicsproject.discourse.group/t/how-to-increase-maximum-number-of-iterations/3259/2"
   ]
  },
  {
   "cell_type": "markdown",
   "metadata": {},
   "source": [
    "snes_solver                   |    type     value                              range  access  change\n",
    "    ----------------------------------------------------------------------------------------------------\n",
    "    absolute_tolerance            |  double  0.000000                            Not set       0       0\n",
    "    error_on_nonconvergence       |    bool         1                            Not set       0       0\n",
    "    line_search                   |  string     basic           [basic,bt,cp,l2,nleqerr]       0       0\n",
    "    linear_solver                 |  string   default                            Not set       0       0\n",
    "    maximum_iterations            |     int        50                            Not set       0       0\n",
    "    maximum_residual_evaluations  |     int      2000                            Not set       0       0\n",
    "    method                        |  string   default                            Not set       0       0\n",
    "    preconditioner                |  string   default                            Not set       0       0\n",
    "    relative_tolerance            |  double  0.000000                            Not set       0       0\n",
    "    report                        |    bool         1                            Not set       0       0\n",
    "    sign                          |  string   default  [default,nonnegative,nonpositive]       0       0\n",
    "    solution_tolerance            |  double  0.000000                            Not set       0       0\n",
    "https://docs.petsc.org/en/latest/manual/snes/\n",
    "\n",
    "    prm['nonlinear_solver'] = 'snes'\n",
    "    prm['snes_solver']['absolute_tolerance'] = 1e-16\n",
    "    prm['snes_solver']['maximum_iterations'] = 200\n",
    "    prm['snes_solver']['method'] = 'qn'"
   ]
  },
  {
   "cell_type": "markdown",
   "metadata": {},
   "source": [
    "---"
   ]
  }
 ],
 "metadata": {
  "kernelspec": {
   "display_name": "Python 3",
   "language": "python",
   "name": "python3"
  },
  "language_info": {
   "codemirror_mode": {
    "name": "ipython",
    "version": 3
   },
   "file_extension": ".py",
   "mimetype": "text/x-python",
   "name": "python",
   "nbconvert_exporter": "python",
   "pygments_lexer": "ipython3",
   "version": "3.7.9"
  }
 },
 "nbformat": 4,
 "nbformat_minor": 4
}
